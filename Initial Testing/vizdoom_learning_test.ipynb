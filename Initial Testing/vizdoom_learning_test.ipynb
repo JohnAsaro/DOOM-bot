{
 "cells": [
  {
   "cell_type": "markdown",
   "metadata": {},
   "source": [
    "Import Dependancies "
   ]
  },
  {
   "cell_type": "code",
   "execution_count": 1,
   "metadata": {},
   "outputs": [],
   "source": [
    "from vizdoom import * #Import all of vizdoom\n",
    "import numpy as np #Numpy for identity matrix\n",
    "import time #To make the program sleep (wait), so we can actually see what's happening\n",
    "from stable_baselines3.common import env_checker #Import the env_checker class from stable_baselines3 to check the environment\n",
    "from stable_baselines3 import PPO #Import the PPO class for training\n",
    "from stable_baselines3.common.evaluation import evaluate_policy #Import the evaluate_policy function to evaluate the model\n",
    "import os #To save the model to the correct path\n",
    "from vizdoom_with_ai_gym_env_test import VizDoomGym_Simple, Deadly_Corridor_VZG, TrainAndLogCallback #Import the environment class and TrainAndLogCallback \n",
    "from pathfinder import doomfinder, create_new_checkpoint_directory\n"
   ]
  },
  {
   "cell_type": "code",
   "execution_count": 2,
   "metadata": {},
   "outputs": [],
   "source": [
    "CHECKPOINT_DIR = create_new_checkpoint_directory('best_model_PPO_test_basic') #Directory to save the model\n",
    "LOG_DIR = './logs/log_PPO_test_basic' #Directory to save the logs"
   ]
  },
  {
   "cell_type": "code",
   "execution_count": 3,
   "metadata": {},
   "outputs": [],
   "source": [
    "callback = TrainAndLogCallback(check_freq=20000, save_path=CHECKPOINT_DIR) #After every 20000 steps of training model, we save the model"
   ]
  },
  {
   "cell_type": "code",
   "execution_count": null,
   "metadata": {},
   "outputs": [],
   "source": [
    "env = VizDoomGym_Simple(config_path=doomfinder(\"basic.cfg\"), render=False) #Create the environment\n",
    "print(env.get_state().game_variables) #Print the game variables\n",
    "env_checker.check_env(env) #Check the environment to see if its valid"
   ]
  },
  {
   "cell_type": "code",
   "execution_count": 18,
   "metadata": {},
   "outputs": [],
   "source": [
    "#env.render(render_in_greyscale=True) #Render the environment in greyscale, crashes the whole thing now and IDK why, not particularly important to fix ATM"
   ]
  },
  {
   "cell_type": "markdown",
   "metadata": {},
   "source": [
    "Use PPO algorithm for training"
   ]
  },
  {
   "cell_type": "code",
   "execution_count": null,
   "metadata": {},
   "outputs": [],
   "source": [
    "#Env already created in previous cell\n",
    "model = PPO('CnnPolicy', env, verbose=1, tensorboard_log=LOG_DIR, learning_rate=0.0001, n_steps=2048) #Create the model\n",
    "\n",
    "#CnnPolicy is a convolutional neural network policy, which is used for images\n",
    "#env is the environment\n",
    "#verbose is the verbosity level\n",
    "#tensorboard_log is the directory to save the logs\n",
    "#learning_rate is the learning rate of the model\n",
    "#n_steps is the number of steps to train the model"
   ]
  },
  {
   "cell_type": "code",
   "execution_count": null,
   "metadata": {},
   "outputs": [],
   "source": [
    "#Train the model\n",
    "model.learn(total_timesteps=100000, callback=callback) #Train the model for 100000 steps"
   ]
  },
  {
   "cell_type": "markdown",
   "metadata": {},
   "source": [
    "Test models"
   ]
  },
  {
   "cell_type": "code",
   "execution_count": 3,
   "metadata": {},
   "outputs": [],
   "source": [
    "model = PPO.load('./Training/checkpoints/best_model_PPO_test_basic_3/best_model_50000.zip') #Load the model (hardcoded to load a specific model but adjust as needed)"
   ]
  },
  {
   "cell_type": "code",
   "execution_count": 4,
   "metadata": {},
   "outputs": [],
   "source": [
    "env = VizDoomGym_Simple(config_path=doomfinder('basic.cfg'), render=True) #Reload env with rendering enabled"
   ]
  },
  {
   "cell_type": "code",
   "execution_count": null,
   "metadata": {},
   "outputs": [],
   "source": [
    "mean_reward, _ = evaluate_policy(model, env, n_eval_episodes=100, render=True) #Evaluate the model for 100 episodes"
   ]
  },
  {
   "cell_type": "code",
   "execution_count": null,
   "metadata": {},
   "outputs": [],
   "source": [
    "#Test for 5 episodes but sleep so that we can see whats going on\n",
    "\n",
    "for episode in range(5):\n",
    "    obs, _ = env.reset()  #Reset the environment and get only the observation\n",
    "    done = False  #Set done to false\n",
    "    total_reward = 0  #Set total reward to 0\n",
    "    while not done:  #While the game isn't done\n",
    "        action, _ = model.predict(obs)  #Get the action\n",
    "        obs, reward, done, truncated, info = env.step(action)  #Take the action\n",
    "        total_reward += reward  #Add the reward to the total reward\n",
    "        time.sleep(0.05)  #Sleep for 0.05 seconds\n",
    "    print('Episode: {}, Total Reward: {}'.format(episode, total_reward))  # Print the episode and total reward\n",
    "    time.sleep(2)  #Sleep for 2 seconds\n"
   ]
  },
  {
   "cell_type": "markdown",
   "metadata": {},
   "source": [
    "Weirdly the model performs much worse when trained for 1M steps than when trained for 100k steps"
   ]
  },
  {
   "cell_type": "code",
   "execution_count": null,
   "metadata": {},
   "outputs": [],
   "source": [
    "model = PPO.load('./Training/checkpoints/best_model_PPO_test_basic_2/best_model_100000.zip') #Load the model (hardcoded to load a specific model but adjust as needed)"
   ]
  },
  {
   "cell_type": "code",
   "execution_count": null,
   "metadata": {},
   "outputs": [],
   "source": [
    "#Test for 5 episodes but sleep so that we can see whats going on\n",
    "\n",
    "for episode in range(5):\n",
    "    obs, _ = env.reset()  #Reset the environment and get only the observation\n",
    "    done = False  #Set done to false\n",
    "    total_reward = 0  #Set total reward to 0\n",
    "    while not done:  #While the game isn't done\n",
    "        action, _ = model.predict(obs)  #Get the action\n",
    "        obs, reward, done, truncated, info = env.step(action)  #Take the action\n",
    "        total_reward += reward  #Add the reward to the total reward\n",
    "        time.sleep(0.05)  #Sleep for 0.05 seconds\n",
    "    print('Episode: {}, Total Reward: {}'.format(episode, total_reward))  # Print the episode and total reward\n",
    "    time.sleep(2)  #Sleep for 2 seconds"
   ]
  },
  {
   "cell_type": "markdown",
   "metadata": {},
   "source": [
    "Trying a new level (Defend The Center)"
   ]
  },
  {
   "cell_type": "code",
   "execution_count": null,
   "metadata": {},
   "outputs": [],
   "source": [
    "env = VizDoomGym_Simple(config_path=doomfinder('defend_the_center.cfg'), render=True) #Reload env with new map\n",
    "print(env.get_state().game_variables) #Print the game variables\n",
    "env_checker.check_env(env) #Check the environment to see if its valid"
   ]
  },
  {
   "cell_type": "code",
   "execution_count": null,
   "metadata": {},
   "outputs": [],
   "source": [
    "#Try with old model (boooo its not good at this map)\n",
    "\n",
    "model = PPO.load('./Training/checkpoints/best_model_PPO_test_basic_4/best_model_50000.zip') #Load the model (hardcoded to load a specific model but adjust as needed)\n",
    "\n",
    "for episode in range(5):\n",
    "    obs, _ = env.reset()  #Reset the environment and get only the observation\n",
    "    done = False  #Set done to false\n",
    "    total_reward = 0  #Set total reward to 0\n",
    "    while not done:  #While the game isn't done\n",
    "        action, _ = model.predict(obs)  #Get the action\n",
    "        obs, reward, done, truncated, info = env.step(action)  #Take the action\n",
    "        total_reward += reward  #Add the reward to the total reward\n",
    "        time.sleep(0.05)  #Sleep for 0.05 seconds\n",
    "    print('Episode: {}, Total Reward: {}'.format(episode, total_reward))  # Print the episode and total reward\n",
    "    time.sleep(2)  #Sleep for 2 seconds"
   ]
  },
  {
   "cell_type": "markdown",
   "metadata": {},
   "source": [
    "Train a new model"
   ]
  },
  {
   "cell_type": "code",
   "execution_count": 2,
   "metadata": {},
   "outputs": [],
   "source": [
    "CHECKPOINT_DIR = create_new_checkpoint_directory('best_model_PPO_test_defend_the_center') #Directory to save the model\n",
    "LOG_DIR = './logs/log_PPO_test_defend_the_center' #Directory to save the logs\n",
    "callback = TrainAndLogCallback(check_freq=25000, save_path=CHECKPOINT_DIR) #After every 25000 steps of training model, we save the model"
   ]
  },
  {
   "cell_type": "code",
   "execution_count": null,
   "metadata": {},
   "outputs": [],
   "source": [
    "env = VizDoomGym_Simple(config_path=doomfinder('defend_the_center.cfg'), render=False) #Reload env with new map\n",
    "model = PPO('CnnPolicy', env, verbose=1, tensorboard_log=LOG_DIR, learning_rate=0.0001, n_steps=8192) #Create the model with more n_steps, more n_steps for more complex things\n",
    "model.learn(total_timesteps=100000, callback=callback) #Train the model for 100000 steps"
   ]
  },
  {
   "cell_type": "markdown",
   "metadata": {},
   "source": [
    "Testing the model"
   ]
  },
  {
   "cell_type": "code",
   "execution_count": 4,
   "metadata": {},
   "outputs": [],
   "source": [
    "model = PPO.load('./Training/checkpoints/best_model_PPO_test_defend_the_center_3/best_model_200000.zip') #Load the model (hardcoded to load a specific model but adjust as needed)\n",
    "env = VizDoomGym_Simple(config_path=doomfinder('defend_the_center.cfg'), render=True) #Reload env with rendering enabled"
   ]
  },
  {
   "cell_type": "code",
   "execution_count": null,
   "metadata": {},
   "outputs": [],
   "source": [
    "mean_reward, _ = evaluate_policy(model, env, n_eval_episodes=10, render=True) #Evaluate the model for 10 episodes"
   ]
  },
  {
   "cell_type": "code",
   "execution_count": 5,
   "metadata": {},
   "outputs": [
    {
     "name": "stdout",
     "output_type": "stream",
     "text": [
      "Episode: 0, Total Reward: -306.4\n",
      "Episode: 1, Total Reward: -278.20000000000005\n",
      "Episode: 2, Total Reward: -575.2\n",
      "Episode: 3, Total Reward: -382.70000000000016\n",
      "Episode: 4, Total Reward: -508.8\n"
     ]
    }
   ],
   "source": [
    "#Try with new model\n",
    "\n",
    "for episode in range(5):\n",
    "    obs, _ = env.reset()  #Reset the environment and get only the observation\n",
    "    done = False  #Set done to false\n",
    "    total_reward = 0  #Set total reward to 0\n",
    "    while not done:  #While the game isn't done\n",
    "        action, _ = model.predict(obs)  #Get the action\n",
    "        obs, reward, done, truncated, info = env.step(action)  #Take the action\n",
    "        total_reward += reward  #Add the reward to the total reward\n",
    "        time.sleep(0.05)  #Sleep for 0.05 seconds\n",
    "    print('Episode: {}, Total Reward: {}'.format(episode, total_reward))  #Print the episode and total reward\n",
    "    time.sleep(2)  #Sleep for 2 seconds"
   ]
  },
  {
   "cell_type": "markdown",
   "metadata": {},
   "source": [
    "Testing with more complicated config (needs custom env, and moving foward each config more complicated than this will probably also need their own env)"
   ]
  },
  {
   "cell_type": "code",
   "execution_count": null,
   "metadata": {},
   "outputs": [],
   "source": [
    "CHECKPOINT_DIR = create_new_checkpoint_directory('best_model_PPO_test_deadly_corridor') #Directory to save the model\n",
    "LOG_DIR = './logs/log_PPO_test_deadly_corridor' #Directory to save the logs\n",
    "callback = TrainAndLogCallback(check_freq=25000, save_path=CHECKPOINT_DIR) #After every 25000 steps of training model, we save the model"
   ]
  },
  {
   "cell_type": "code",
   "execution_count": null,
   "metadata": {},
   "outputs": [],
   "source": [
    "env = Deadly_Corridor_VZG(config_path=doomfinder('deadly_corridor_s5.cfg'), render=False) #Reload env with new map\n",
    "model = PPO('CnnPolicy', env, verbose=1, tensorboard_log=LOG_DIR, learning_rate=0.0001, n_steps=4096) #Create the model with more n_steps, more n_steps for more complex things\n",
    "model.learn(total_timesteps=100000, callback=callback) #Train the model for 100000 steps"
   ]
  }
 ],
 "metadata": {
  "kernelspec": {
   "display_name": "Python 3",
   "language": "python",
   "name": "python3"
  },
  "language_info": {
   "codemirror_mode": {
    "name": "ipython",
    "version": 3
   },
   "file_extension": ".py",
   "mimetype": "text/x-python",
   "name": "python",
   "nbconvert_exporter": "python",
   "pygments_lexer": "ipython3",
   "version": "3.11.4"
  }
 },
 "nbformat": 4,
 "nbformat_minor": 2
}
