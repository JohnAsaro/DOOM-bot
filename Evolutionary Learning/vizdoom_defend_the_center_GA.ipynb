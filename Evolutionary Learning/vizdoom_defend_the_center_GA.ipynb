{
 "cells": [
  {
   "cell_type": "markdown",
   "metadata": {},
   "source": [
    "Using a GA to learn defend_the_center.cfg"
   ]
  },
  {
   "cell_type": "markdown",
   "metadata": {},
   "source": [
    "Import everything"
   ]
  },
  {
   "cell_type": "code",
   "execution_count": 1,
   "metadata": {},
   "outputs": [],
   "source": [
    "import torch\n",
    "import torch.nn as nn\n",
    "import torch.optim as optim\n",
    "import numpy as np\n",
    "#from vizdoom_env import Defend_the_Center_VZG #Will just define in the notebook because its more organized\n",
    "import random\n",
    "from torch.utils.tensorboard import SummaryWriter\n",
    "from vizdoom import * #Import all of vizdoom\n",
    "import time #To make the program sleep (wait), so we can actually see what's happening\n",
    "from gymnasium import Env #Import OpenAI Gym's Env class\n",
    "from gymnasium.spaces import Discrete, Box #Import OpenAI Gym's Discrete and Box spaces\n",
    "import cv2 #OpenCV for image processing, used for modifying the DOOM environment to make it run faster \n",
    "from stable_baselines3.common.callbacks import BaseCallback #Import the BaseCallback class from stable_baselines3 to learn from the environment\n",
    "from stable_baselines3.common import env_checker #Import the env_checker class from stable_baselines3 to check the environment\n",
    "import os #To create directories for saving models\n",
    "import sys #To backtrack to root\n",
    "\n",
    "original_sys_path = sys.path.copy() #Come back to this path later after we navigate to the parent directory\n",
    "sys.path.append(os.path.abspath(os.path.join(os.getcwd(), '..')))  #Add the parent directory to the path so we can import the pathfinder module\n",
    "from pathfinder import doomfinder, create_new_best_generation_directory, gamefinder #Import functions from the pathfinder module\n",
    "sys.path = original_sys_path #Set the path back to the original path\n"
   ]
  },
  {
   "cell_type": "markdown",
   "metadata": {},
   "source": [
    "Define enviornment"
   ]
  },
  {
   "cell_type": "code",
   "execution_count": null,
   "metadata": {},
   "outputs": [],
   "source": [
    "class Defend_the_Center_VZG(Env): #Used for defend_the_center config\n",
    "    def __init__(self, config_path, render=False): #Constructor\n",
    "        \n",
    "        #The naming convention will be \"First map this was used on\" + \"_VZG\" (VizDoomGym), \n",
    "        #but each config/map this env is used for will be listed below\n",
    "\n",
    "        #Maps/Config: defend_the_center\n",
    "\n",
    "        super(Defend_the_Center_VZG, self).__init__() #Inherit from Env class\n",
    "\n",
    "        #Args: \n",
    "            #config_path (str): The path to the configuration file\n",
    "            #render (bool): Whether to render the environment or not, false by default\n",
    "\n",
    "        #Setup game\n",
    "        self.game = vizdoom.DoomGame() #Create a DoomGame object\n",
    "        self.game.set_doom_game_path(gamefinder('freedoom2.wad')) #Set the path to the game\n",
    "        self.game.load_config(config_path) #Load the configuration file from file path, ex: doomfinder(\"basic.cfg\")\n",
    "\n",
    "        #Set window visibility\n",
    "        if render == False:\n",
    "            self.game.set_window_visible(False)\n",
    "        else:\n",
    "            self.game.set_window_visible(True)\n",
    "\n",
    "        self.game.init() #Start the game\n",
    "\n",
    "        #Setup action and observation space\n",
    "        self.observation_space = Box(low=0, high=255, shape=(100, 160, 1), dtype=np.uint8) #Observation space, 100x160x1 image\n",
    "        self.action_space = Discrete(3) #Action space, 3 actions\n",
    "\n",
    "        #Get game variables\n",
    "        game_variables = self.game.get_state().game_variables\n",
    "        ammo, health, killcount = game_variables        \n",
    "        self.ammo = ammo #Get the ammo count, initialize to the current ammo\n",
    "        self.health = health #Initialize health to starting health (probably 100)\n",
    "        self.killcount = killcount #Initialize killcount to 0\n",
    "\n",
    "\n",
    "    def step(self, action, limit = 1000): #Take a step in the environment \n",
    "        #Args:\n",
    "            #action (int): The action to take\n",
    "            #limit (int): Unimplemented \"limit\" for the episode, most likely will be a time limit\n",
    "        #Returns:\n",
    "            #observation (np.array): The screen buffer of the environment\n",
    "            #reward (float): The reward for the action taken\n",
    "            #terminated (bool) Whether the episode is finished or not (by reaching the goal)\n",
    "            #truncated (bool): Whether the episode has reached some terminal state without reaching the goal (ie: running out of time)\n",
    "            #info (dict): Additional information about the environment\n",
    "\n",
    "        #Specify actions and take a step\n",
    "        actions = np.identity(3) #Create an identity matrix with 3 rows (3 actions), MOVE_LEFT, MOVE_RIGHT, ATTACK, these are the actions we can take in the environment\n",
    "        movement_reward = self.game.make_action(actions[action], 4) #Reward for taking a random action, second parameter is frame skip (skip 4 frames before taking the next action), the reason we do this is because it saves us time while being easy to see what is happening \n",
    "        reward = movement_reward #Initialize reward to movement reward\n",
    "        truncated = False #Not implemented yet, so set to False. The idea is that if step passes some sort of limit, like a time limit, then the episode is truncated.\n",
    "        info = {} #Initialize info to an empty dictionary\n",
    "\n",
    "        if self.game.get_state(): #If the game is not finished\n",
    "            observation = self.game.get_state().screen_buffer #Get the screen buffer\n",
    "            observation = self.greyscale(observation) #Convert the image to greyscale\n",
    "\n",
    "            game_variables = self.game.get_state().game_variables #Get the game variables\n",
    "            ammo, health, killcount = game_variables #Unpack the game variables\n",
    "\n",
    "            \n",
    "            #Calculate reward deltas\n",
    "            #ammo_delta = ammo - self.ammo #Current ammo - old ammo = ammo used\n",
    "            ammo = self.ammo \n",
    "            #health_delta = health - self.health  #Current health - old health = damage taken\n",
    "            health = self.health\n",
    "            #killcount_delta = killcount - self.killcount #Current killcount - old killcount = enemies killed\n",
    "            killcount = self.killcount\n",
    "\n",
    "            #reward = movement_reward*2 + ammo_delta*0.0384615385 + health_delta*0.01 #Calculate the reward, we get 2 pts for each enemy we kill, if we lose all heath our score is subtracted by 1, if we lose all ammo our score is subtracted by 1\n",
    "            #reward = movement_reward*2 + ammo_delta*0.0384615385 + health_delta*0 #Ignore health delta because it might just be punishing the model too much\n",
    "            #reward = movement_reward*2 + ammo_delta*0.01 + health_delta*0 #Lower the amount the model is punished for wasting ammo\n",
    "            #reward = movement_reward*2 #Move punishing ammo wasted over to the fitness function\n",
    "            reward = movement_reward #Ignore reward shaping\n",
    "            \n",
    "            info = {\"ammo\": ammo, \"health\": health, \"killcount\": killcount} #Add ammo and health to the info dictionary\n",
    "        else:\n",
    "            observation = np.zeros(self.observation_space.shape) #Return a blank screen\n",
    "\n",
    "        terminated = self.game.is_episode_finished() #Check if the episode is finished\n",
    "\n",
    "        return observation, reward, terminated, truncated, info\n",
    "\n",
    "    def render(self, render_in_greyscale=False): #Render the environment for a frame\n",
    "        #Args:\n",
    "            #render_in_greyscale (bool): Whether to render the environment in greyscale or not\n",
    "        \n",
    "        if self.game.get_state() and render_in_greyscale:  #Only render if there's a valid game state\n",
    "            observation = self.game.get_state().screen_buffer\n",
    "            greyscale_obs = self.greyscale(observation)  #Convert to greyscale\n",
    "            #Render using OpenCV to visualize\n",
    "            cv2.imshow(\"VizDoom Environment\", greyscale_obs.squeeze())  #Remove extra dimension and display\n",
    "            cv2.waitKey(1)  #Wait 1ms between frames to allow for rendering\n",
    "        elif self.game.get_state():  #Only render if there's a valid game state\n",
    "            observation = self.game.get_state().screen_buffer\n",
    "            #Render using OpenCV to visualize\n",
    "            cv2.imshow(\"VizDoom Environment\", observation.squeeze())  #Remove extra dimension and display\n",
    "            cv2.waitKey(1)  #Wait 1ms between frames to allow for rendering\n",
    "        else:\n",
    "            print(\"No game state to render.\")\n",
    "\n",
    "            \n",
    "    def reset(self, seed=None): #Reset the environment when we start a new game\n",
    "        #Args:\n",
    "            #seed (int): The seed for the random number generator\n",
    "        #Returns:\n",
    "            #(observation, info) (tuple)\n",
    "                #observation (np.array): The screen buffer of the environment\n",
    "                #info (dict): Additional information about the environment\n",
    "            \n",
    "        super().reset(seed=seed) #Implement seeding\n",
    "        \n",
    "        self.game.new_episode() #Start a new episode\n",
    "        state = self.game.get_state().screen_buffer #Get the screen buffer\n",
    "        observation = self.greyscale(state) #Convert the image to greyscale\n",
    "        \n",
    "        #Gather any additional environment-specific info (like ammo, etc.)\n",
    "        if self.game.get_state():\n",
    "            game_variables = self.game.get_state().game_variables #Get the game variables\n",
    "            ammo, health, killcount = game_variables #Unpack the game variables\n",
    "            info = {\"ammo\": ammo, \"health\": health, \"killcount\": killcount} #Add to the info dictionary\n",
    "        else:\n",
    "            info = {} #No gamestate means no info can be gathered\n",
    "        \n",
    "        return (observation, info) #Tuple of observation and info\n",
    "\n",
    "    def greyscale(self, observation=None): #Convert the enivornment to greyscale and resize it\n",
    "        #Args:\n",
    "            #observation (np.array): The image of the environment (the current game frame)\n",
    "        #Returns:\n",
    "            #grey_return (np.array): The resized greyscale image of the environment\n",
    "        \n",
    "        if observation is None and self.game.get_state(): #If no observation is passed\n",
    "            observation = self.game.get_state().screen_buffer #Get the screen buffer \n",
    "\n",
    "        grey = cv2.cvtColor(np.moveaxis(observation, 0, -1), cv2.COLOR_BGR2GRAY) #Convert the image to greyscale\n",
    "        resize = cv2.resize(grey, (160, 100), interpolation=cv2.INTER_CUBIC) #Resize the image to 160x100\n",
    "        state = np.reshape(resize, (100, 160, 1)) #Reshape the image to 100x160x1\n",
    "        \n",
    "        return state\n",
    "    \n",
    "    def get_state(self): \n",
    "        #Returns:\n",
    "            #state (np.array): The current state of the environment\n",
    "        return self.game.get_state()\n",
    "\n",
    "    def close(self): #Close the environment\n",
    "        self.game.close()"
   ]
  },
  {
   "cell_type": "markdown",
   "metadata": {},
   "source": [
    "Initalize Agent"
   ]
  },
  {
   "cell_type": "code",
   "execution_count": 3,
   "metadata": {},
   "outputs": [],
   "source": [
    "#Define a simple neural network for action selection\n",
    "class DoomAgent(nn.Module):\n",
    "    def __init__(self):\n",
    "        super(DoomAgent, self).__init__()\n",
    "        self.fc1 = nn.Linear(160 * 100, 128)\n",
    "        self.fc2 = nn.Linear(128, 64)  #Additional hidden layer\n",
    "        self.fc3 = nn.Linear(64, 3)  #Output layer for 3 actions\n",
    "\n",
    "    def forward(self, x):\n",
    "        x = torch.flatten(x, 1)  #Flatten input\n",
    "        x = torch.relu(self.fc1(x))\n",
    "        x = torch.relu(self.fc2(x))  #Pass through second hidden layer\n",
    "        x = torch.softmax(self.fc3(x), dim=1)\n",
    "        return x"
   ]
  },
  {
   "cell_type": "markdown",
   "metadata": {},
   "source": [
    "Initialize Population"
   ]
  },
  {
   "cell_type": "code",
   "execution_count": 6,
   "metadata": {},
   "outputs": [],
   "source": [
    "def initialize_population(pop_size):\n",
    "    return [DoomAgent() for _ in range(pop_size)]"
   ]
  },
  {
   "cell_type": "markdown",
   "metadata": {},
   "source": [
    "Define Fitness Function\n"
   ]
  },
  {
   "cell_type": "code",
   "execution_count": null,
   "metadata": {},
   "outputs": [],
   "source": [
    "def fitness(agent, env, episodes=3):\n",
    "    total_reward = 0\n",
    "    total_ammo_used = 0  #Track ammo usage for the fitness penalty\n",
    "    total_steps = 0  #Track total steps taken\n",
    "\n",
    "    for _ in range(episodes):\n",
    "        obs, info = env.reset()\n",
    "        current_ammo = info.get(\"ammo\", 0)  #Get starting ammo if available\n",
    "        ammo_wasted = 0  #Track ammo wasted for the fitness penalty\n",
    "        current_health = info.get(\"health\", 100)  #Get starting health if available\n",
    "        current_killcount = info.get(\"killcount\", 0)  #Get starting killcount if available\n",
    "        done = False\n",
    "\n",
    "        while not done:\n",
    "            obs_tensor = torch.from_numpy(obs).float().unsqueeze(0)\n",
    "            action_probs = agent(obs_tensor)\n",
    "            action = torch.argmax(action_probs).item()\n",
    "            obs, reward, terminated, truncated, info = env.step(action)\n",
    "\n",
    "            #Accumulate rewards\n",
    "            total_reward += reward\n",
    "            \n",
    "            #Acumlate total steps\n",
    "            total_steps += 1\n",
    "\n",
    "\n",
    "            #Calculate ammo wasted during this step\n",
    "            new_ammo = info.get(\"ammo\", current_ammo) #Get the new ammo count   \n",
    "            ammo_used = current_ammo - new_ammo #Calculate ammo used\n",
    "            if ammo_used > current_killcount: #If we used more ammo than enemies killed\n",
    "                ammo_wasted = ammo_used - current_killcount #Track the wasted ammo\n",
    "            total_ammo_used += ammo_used #Accumulate total ammo used\n",
    "            current_ammo = new_ammo #Update the current ammo\n",
    "            current_killcount = info.get(\"killcount\", current_killcount) #Update the killcount\n",
    "\n",
    "            done = terminated or truncated\n",
    "\n",
    "        total_reward -= ammo_wasted  #Penalize for wasted ammo, each enemy killed is worth a point, and each bullet missed loses us a point\n",
    "    \n",
    "    avg_reward = total_reward / episodes\n",
    "    avg_steps = total_steps / episodes\n",
    "\n",
    "    return avg_reward, avg_steps"
   ]
  },
  {
   "cell_type": "markdown",
   "metadata": {},
   "source": [
    "Selection, Crossover, and Mutation"
   ]
  },
  {
   "cell_type": "code",
   "execution_count": null,
   "metadata": {},
   "outputs": [],
   "source": [
    "def select_parents(population, fitnesses, num_parents=5):\n",
    "    #Sort by fitness\n",
    "    sorted_population = [x for _, x in sorted(zip(fitnesses, population), key=lambda item: item[0], reverse=True)]\n",
    "    return sorted_population[:num_parents]\n",
    "\n",
    "\n",
    "def crossover(parent1, parent2):\n",
    "    child = DoomAgent()\n",
    "    for param_child, param1, param2 in zip(child.parameters(), parent1.parameters(), parent2.parameters()):\n",
    "        mask = torch.rand_like(param1) > 0.5\n",
    "        param_child.data = torch.where(mask, param1.data, param2.data)\n",
    "    return child\n",
    "\n",
    "def mutate(agent, mutation_rate=0.01):\n",
    "    for param in agent.parameters():\n",
    "        if random.random() < mutation_rate:\n",
    "            param.data += torch.randn_like(param) * mutation_rate"
   ]
  },
  {
   "cell_type": "markdown",
   "metadata": {},
   "source": [
    "Define functions that create the directories that the logs will be saved in"
   ]
  },
  {
   "cell_type": "code",
   "execution_count": null,
   "metadata": {},
   "outputs": [],
   "source": [
    "def create_run_directory(base_dir=\"runs/vizdoom_ga_defend_the_center\"):\n",
    "    os.makedirs(base_dir, exist_ok=True)\n",
    "    existing_runs = [int(d.split('_')[-1]) for d in os.listdir(base_dir) if d.split('_')[-1].isdigit()]\n",
    "    run_number = max(existing_runs, default=0) + 1\n",
    "    run_dir = os.path.join(base_dir, f\"run_{run_number}\")\n",
    "    os.makedirs(run_dir, exist_ok=True)\n",
    "    \n",
    "    #Create log directory within the run directory\n",
    "    log_dir = os.path.join(run_dir, \"log\")\n",
    "    os.makedirs(log_dir, exist_ok=True)\n",
    "    \n",
    "    return run_dir, log_dir"
   ]
  },
  {
   "cell_type": "markdown",
   "metadata": {},
   "source": [
    "Define best agents loader"
   ]
  },
  {
   "cell_type": "code",
   "execution_count": null,
   "metadata": {},
   "outputs": [],
   "source": [
    "def load_best_agents(model_dir, num_agents=5):\n",
    "    \"\"\"Load a specified number of best agents from a previous run's model directory.\"\"\"\n",
    "    best_agents = []\n",
    "    for i in range(num_agents):\n",
    "        agent = DoomAgent()\n",
    "        checkpoint_path = os.path.join(model_dir, f\"best_agent_gen_{i}.pth\")\n",
    "        agent.load_state_dict(torch.load(checkpoint_path, weights_only=False)) \n",
    "        best_agents.append(agent)\n",
    "    return best_agents"
   ]
  },
  {
   "cell_type": "markdown",
   "metadata": {},
   "source": [
    "Define Genetic Algorithm"
   ]
  },
  {
   "cell_type": "code",
   "execution_count": null,
   "metadata": {},
   "outputs": [],
   "source": [
    "def run_ga(env, generations=20, pop_size=10, num_parents=5, mutation_rate=0.01, initial_population=None):\n",
    "    #Create new run directories for logs and models\n",
    "    run_dir, log_dir = create_run_directory()\n",
    "    writer = SummaryWriter(log_dir)\n",
    "    \n",
    "    #Directory to save models for this run\n",
    "    model_dir = os.path.join(run_dir, \"saved_models\")\n",
    "    os.makedirs(model_dir, exist_ok=True)\n",
    "    \n",
    "    #Start with the provided initial population or initialize a new one\n",
    "    population = initial_population if initial_population else initialize_population(pop_size)\n",
    "\n",
    "    for generation in range(generations):\n",
    "        fitnesses = []\n",
    "        episode_lengths = []\n",
    "        episode_rewards = []\n",
    "\n",
    "        for agent in population:\n",
    "            #Use the fitness function to evaluate the agent's fitness\n",
    "            agent_fitness, total_steps = fitness(agent, env)\n",
    "            fitnesses.append(agent_fitness)\n",
    "            episode_rewards.append(agent_fitness)\n",
    "            episode_lengths.append(total_steps) \n",
    "        \n",
    "        #Calculate metrics\n",
    "        best_fitness = max(fitnesses)\n",
    "        avg_fitness = np.mean(fitnesses)\n",
    "        ep_len_mean = np.mean(episode_lengths)\n",
    "        ep_rew_mean = np.mean(episode_rewards)\n",
    "\n",
    "        #Diversity metric (Euclidean distance between agents)\n",
    "        diversity = 0\n",
    "        for i in range(len(population)):\n",
    "            for j in range(i + 1, len(population)):\n",
    "                diversity += torch.norm(torch.cat([p.flatten() for p in population[i].parameters()]) -\n",
    "                                        torch.cat([p.flatten() for p in population[j].parameters()])).item()\n",
    "        diversity /= (len(population) * (len(population) - 1) / 2)  #Normalize diversity calculation\n",
    "\n",
    "        #Log metrics to TensorBoard\n",
    "        writer.add_scalar('Best Fitness', best_fitness, generation)\n",
    "        writer.add_scalar('Average Fitness', avg_fitness, generation)\n",
    "        writer.add_scalar('Diversity', diversity, generation)\n",
    "        writer.add_scalar('Episode Length Mean', ep_len_mean, generation)\n",
    "        writer.add_scalar('Episode Reward Mean', ep_rew_mean, generation)\n",
    "\n",
    "        print(f'Generation {generation}: Best Fitness = {best_fitness}, Avg Fitness = {avg_fitness}, Diversity = {diversity}')\n",
    "\n",
    "        #Save the best model of this generation\n",
    "        best_agent_idx = fitnesses.index(best_fitness)\n",
    "        best_agent = population[best_agent_idx]\n",
    "        torch.save(best_agent.state_dict(), f\"{model_dir}/best_agent_gen_{generation}.pth\")\n",
    "\n",
    "        #Selection and reproduction\n",
    "        parents = select_parents(population, fitnesses, num_parents)\n",
    "        next_population = parents[:]\n",
    "        while len(next_population) < pop_size:\n",
    "            parent1, parent2 = random.sample(parents, 2)\n",
    "            child = crossover(parent1, parent2)\n",
    "            mutate(child, mutation_rate)\n",
    "            next_population.append(child)\n",
    "\n",
    "        population = next_population\n",
    "\n",
    "    writer.close()\n",
    "    return population\n"
   ]
  },
  {
   "cell_type": "markdown",
   "metadata": {},
   "source": [
    "Train with the ViZDoom Environment"
   ]
  },
  {
   "cell_type": "code",
   "execution_count": null,
   "metadata": {},
   "outputs": [],
   "source": [
    "#Initialize Doom environment\n",
    "env = Defend_the_Center_VZG(doomfinder('defend_the_center_modified.cfg'), render=False)\n",
    "\n",
    "env_checker.check_env(env) #Check the environment to see if its valid\n",
    "\n",
    "#Run Genetic Algorithm\n",
    "trained_agents = run_ga(env, generations=1000, pop_size=30, num_parents=5, mutation_rate=0.01)"
   ]
  },
  {
   "cell_type": "markdown",
   "metadata": {},
   "source": [
    "Train with the ViZDoom enviornment based off a previous best agent"
   ]
  },
  {
   "cell_type": "code",
   "execution_count": null,
   "metadata": {},
   "outputs": [],
   "source": [
    "#Initialize Doom environment\n",
    "#env = Defend_the_Center_VZG(doomfinder('defend_the_center_modified.cfg'), render=False)\n",
    "\n",
    "#initial_population = load_best_agents(\"runs/vizdoom_ga_defend_the_center/run_7/saved_models\", num_agents=999)\n",
    "\n",
    "#Run Genetic Algorithm\n",
    "#trained_agents = run_ga(env, generations=1000, pop_size=30, num_parents=5, mutation_rate=0.01, initial_population=initial_population)\n"
   ]
  },
  {
   "cell_type": "markdown",
   "metadata": {},
   "source": [
    "Test best agent"
   ]
  },
  {
   "cell_type": "code",
   "execution_count": 4,
   "metadata": {},
   "outputs": [
    {
     "name": "stderr",
     "output_type": "stream",
     "text": [
      "C:\\Users\\johnn\\AppData\\Local\\Temp\\ipykernel_39732\\1724853757.py:5: FutureWarning: You are using `torch.load` with `weights_only=False` (the current default value), which uses the default pickle module implicitly. It is possible to construct malicious pickle data which will execute arbitrary code during unpickling (See https://github.com/pytorch/pytorch/blob/main/SECURITY.md#untrusted-models for more details). In a future release, the default value for `weights_only` will be flipped to `True`. This limits the functions that could be executed during unpickling. Arbitrary objects will no longer be allowed to be loaded via this mode unless they are explicitly allowlisted by the user via `torch.serialization.add_safe_globals`. We recommend you start setting `weights_only=True` for any use case where you don't have full control of the loaded file. Please open an issue on GitHub for any issues related to this experimental feature.\n",
      "  agent.load_state_dict(torch.load(\"runs/vizdoom_ga_defend_the_center/run_9/saved_models/best_agent_gen_999.pth\"))\n"
     ]
    },
    {
     "name": "stdout",
     "output_type": "stream",
     "text": [
      "c:\\Users\\johnn\\OneDrive\\Desktop\\Coding Projects\\DOOM-bot\\Evolutionary Learning\\Maps and Configs\n",
      "Episode: 0, Total Reward: 0.0\n",
      "Episode: 1, Total Reward: 1.0\n",
      "Episode: 2, Total Reward: 2.0\n",
      "Episode: 3, Total Reward: 0.0\n",
      "Episode: 4, Total Reward: 0.0\n"
     ]
    }
   ],
   "source": [
    "#Initialize the agent\n",
    "agent = DoomAgent()\n",
    "\n",
    "#Load the saved model weights into the agent\n",
    "agent.load_state_dict(torch.load(\"runs/vizdoom_ga_defend_the_center/run_9/saved_models/best_agent_gen_999.pth\"))\n",
    "\n",
    "#Set the agent to evaluation mode\n",
    "agent.eval()\n",
    "\n",
    "#Initialize the environment\n",
    "env = Defend_the_Center_VZG(doomfinder('defend_the_center_modified.cfg'), render=True)\n",
    "\n",
    "for episode in range(5):\n",
    "    observation, _ = env.reset()  #Reset the environment and get only the observation\n",
    "    done = False  #Set done to false\n",
    "    total_reward = 0  #Set total reward to 0\n",
    "\n",
    "    while not done:  #While the game isn't done\n",
    "        #Convert the observation to a tensor and pass it through the agent\n",
    "        obs_tensor = torch.from_numpy(observation).float().unsqueeze(0)\n",
    "        with torch.no_grad():  # Disable gradient computation\n",
    "            action_probs = agent(obs_tensor)  # Use agent instead of best_agent\n",
    "            action = torch.argmax(action_probs).item()\n",
    "        \n",
    "        #Take a step in the environment\n",
    "        observation, reward, done, _, _ = env.step(action)\n",
    "        total_reward += reward  #Add the reward to the total reward\n",
    "        time.sleep(0.05)  #Sleep for 0.05 seconds\n",
    "\n",
    "    print(f'Episode: {episode}, Total Reward: {total_reward}')  #Print the episode and total reward\n",
    "    time.sleep(2)  #Sleep for 2 seconds between episodes\n"
   ]
  }
 ],
 "metadata": {
  "kernelspec": {
   "display_name": "Python 3",
   "language": "python",
   "name": "python3"
  },
  "language_info": {
   "codemirror_mode": {
    "name": "ipython",
    "version": 3
   },
   "file_extension": ".py",
   "mimetype": "text/x-python",
   "name": "python",
   "nbconvert_exporter": "python",
   "pygments_lexer": "ipython3",
   "version": "3.11.4"
  }
 },
 "nbformat": 4,
 "nbformat_minor": 2
}
