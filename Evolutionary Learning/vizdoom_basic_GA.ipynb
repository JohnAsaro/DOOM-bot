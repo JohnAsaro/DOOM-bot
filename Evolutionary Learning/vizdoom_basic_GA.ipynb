{
 "cells": [
  {
   "cell_type": "markdown",
   "metadata": {},
   "source": [
    "Using a GA to learn basic.cfg"
   ]
  },
  {
   "cell_type": "code",
   "execution_count": 1,
   "metadata": {},
   "outputs": [],
   "source": [
    "import torch\n",
    "import torch.nn as nn\n",
    "import torch.optim as optim\n",
    "import numpy as np\n",
    "from vizdoom_env import VizDoomGym_Simple\n",
    "from stable_baselines3.common.callbacks import BaseCallback\n",
    "import random\n",
    "from pathfinder import doomfinder\n",
    "\n",
    "#Define a simple neural network for action selection\n",
    "class DoomAgent(nn.Module):\n",
    "    def __init__(self):\n",
    "        super(DoomAgent, self).__init__()\n",
    "        self.fc1 = nn.Linear(160 * 100, 128)\n",
    "        self.fc2 = nn.Linear(128, 3)  #3 possible actions\n",
    "\n",
    "    def forward(self, x):\n",
    "        x = torch.flatten(x, 1)  #Flatten input\n",
    "        x = torch.relu(self.fc1(x))\n",
    "        x = torch.softmax(self.fc2(x), dim=1)\n",
    "        return x"
   ]
  },
  {
   "cell_type": "code",
   "execution_count": 2,
   "metadata": {},
   "outputs": [],
   "source": [
    "def initialize_population(pop_size):\n",
    "    return [DoomAgent() for _ in range(pop_size)]"
   ]
  },
  {
   "cell_type": "code",
   "execution_count": 3,
   "metadata": {},
   "outputs": [],
   "source": [
    "def fitness(agent, env, episodes=3):\n",
    "    total_reward = 0\n",
    "    for _ in range(episodes):\n",
    "        obs, _ = env.reset()\n",
    "        done = False\n",
    "        while not done:\n",
    "            obs_tensor = torch.from_numpy(obs).float().unsqueeze(0)\n",
    "            action_probs = agent(obs_tensor)\n",
    "            action = torch.argmax(action_probs).item()\n",
    "            obs, reward, done, _, _ = env.step(action)\n",
    "            total_reward += reward\n",
    "    return total_reward"
   ]
  },
  {
   "cell_type": "code",
   "execution_count": 4,
   "metadata": {},
   "outputs": [],
   "source": [
    "def select_parents(population, fitnesses, num_parents=5):\n",
    "    sorted_population = [x for _, x in sorted(zip(fitnesses, population), reverse=True)]\n",
    "    return sorted_population[:num_parents]\n",
    "\n",
    "def crossover(parent1, parent2):\n",
    "    child = DoomAgent()\n",
    "    for param_child, param1, param2 in zip(child.parameters(), parent1.parameters(), parent2.parameters()):\n",
    "        mask = torch.rand_like(param1) > 0.5\n",
    "        param_child.data = torch.where(mask, param1.data, param2.data)\n",
    "    return child\n",
    "\n",
    "def mutate(agent, mutation_rate=0.01):\n",
    "    for param in agent.parameters():\n",
    "        if random.random() < mutation_rate:\n",
    "            param.data += torch.randn_like(param) * mutation_rate"
   ]
  },
  {
   "cell_type": "code",
   "execution_count": 5,
   "metadata": {},
   "outputs": [],
   "source": [
    "def run_ga(env, generations=20, pop_size=10, num_parents=5, mutation_rate=0.01):\n",
    "    population = initialize_population(pop_size)\n",
    "    for generation in range(generations):\n",
    "        fitnesses = [fitness(agent, env) for agent in population]\n",
    "        print(f'Generation {generation}: Best Fitness = {max(fitnesses)}')\n",
    "\n",
    "        parents = select_parents(population, fitnesses, num_parents)\n",
    "        next_population = parents[:]\n",
    "\n",
    "        while len(next_population) < pop_size:\n",
    "            parent1, parent2 = random.sample(parents, 2)\n",
    "            child = crossover(parent1, parent2)\n",
    "            mutate(child, mutation_rate)\n",
    "            next_population.append(child)\n",
    "\n",
    "        population = next_population\n",
    "    return population\n"
   ]
  },
  {
   "cell_type": "code",
   "execution_count": 6,
   "metadata": {},
   "outputs": [
    {
     "name": "stdout",
     "output_type": "stream",
     "text": [
      "Generation 0: Best Fitness = 1.4599999999999986\n"
     ]
    },
    {
     "ename": "TypeError",
     "evalue": "'<' not supported between instances of 'DoomAgent' and 'DoomAgent'",
     "output_type": "error",
     "traceback": [
      "\u001b[1;31m---------------------------------------------------------------------------\u001b[0m",
      "\u001b[1;31mTypeError\u001b[0m                                 Traceback (most recent call last)",
      "Cell \u001b[1;32mIn[6], line 5\u001b[0m\n\u001b[0;32m      2\u001b[0m env \u001b[38;5;241m=\u001b[39m VizDoomGym_Simple(doomfinder(\u001b[38;5;124m'\u001b[39m\u001b[38;5;124mdefend_the_center.cfg\u001b[39m\u001b[38;5;124m'\u001b[39m), render\u001b[38;5;241m=\u001b[39m\u001b[38;5;28;01mTrue\u001b[39;00m)\n\u001b[0;32m      4\u001b[0m \u001b[38;5;66;03m#Run Genetic Algorithm\u001b[39;00m\n\u001b[1;32m----> 5\u001b[0m trained_agents \u001b[38;5;241m=\u001b[39m \u001b[43mrun_ga\u001b[49m\u001b[43m(\u001b[49m\u001b[43menv\u001b[49m\u001b[43m,\u001b[49m\u001b[43m \u001b[49m\u001b[43mgenerations\u001b[49m\u001b[38;5;241;43m=\u001b[39;49m\u001b[38;5;241;43m20\u001b[39;49m\u001b[43m,\u001b[49m\u001b[43m \u001b[49m\u001b[43mpop_size\u001b[49m\u001b[38;5;241;43m=\u001b[39;49m\u001b[38;5;241;43m10\u001b[39;49m\u001b[43m)\u001b[49m\n",
      "Cell \u001b[1;32mIn[5], line 7\u001b[0m, in \u001b[0;36mrun_ga\u001b[1;34m(env, generations, pop_size, num_parents, mutation_rate)\u001b[0m\n\u001b[0;32m      4\u001b[0m fitnesses \u001b[38;5;241m=\u001b[39m [fitness(agent, env) \u001b[38;5;28;01mfor\u001b[39;00m agent \u001b[38;5;129;01min\u001b[39;00m population]\n\u001b[0;32m      5\u001b[0m \u001b[38;5;28mprint\u001b[39m(\u001b[38;5;124mf\u001b[39m\u001b[38;5;124m'\u001b[39m\u001b[38;5;124mGeneration \u001b[39m\u001b[38;5;132;01m{\u001b[39;00mgeneration\u001b[38;5;132;01m}\u001b[39;00m\u001b[38;5;124m: Best Fitness = \u001b[39m\u001b[38;5;132;01m{\u001b[39;00m\u001b[38;5;28mmax\u001b[39m(fitnesses)\u001b[38;5;132;01m}\u001b[39;00m\u001b[38;5;124m'\u001b[39m)\n\u001b[1;32m----> 7\u001b[0m parents \u001b[38;5;241m=\u001b[39m \u001b[43mselect_parents\u001b[49m\u001b[43m(\u001b[49m\u001b[43mpopulation\u001b[49m\u001b[43m,\u001b[49m\u001b[43m \u001b[49m\u001b[43mfitnesses\u001b[49m\u001b[43m,\u001b[49m\u001b[43m \u001b[49m\u001b[43mnum_parents\u001b[49m\u001b[43m)\u001b[49m\n\u001b[0;32m      8\u001b[0m next_population \u001b[38;5;241m=\u001b[39m parents[:]\n\u001b[0;32m     10\u001b[0m \u001b[38;5;28;01mwhile\u001b[39;00m \u001b[38;5;28mlen\u001b[39m(next_population) \u001b[38;5;241m<\u001b[39m pop_size:\n",
      "Cell \u001b[1;32mIn[4], line 2\u001b[0m, in \u001b[0;36mselect_parents\u001b[1;34m(population, fitnesses, num_parents)\u001b[0m\n\u001b[0;32m      1\u001b[0m \u001b[38;5;28;01mdef\u001b[39;00m \u001b[38;5;21mselect_parents\u001b[39m(population, fitnesses, num_parents\u001b[38;5;241m=\u001b[39m\u001b[38;5;241m5\u001b[39m):\n\u001b[1;32m----> 2\u001b[0m     sorted_population \u001b[38;5;241m=\u001b[39m [x \u001b[38;5;28;01mfor\u001b[39;00m _, x \u001b[38;5;129;01min\u001b[39;00m \u001b[38;5;28;43msorted\u001b[39;49m\u001b[43m(\u001b[49m\u001b[38;5;28;43mzip\u001b[39;49m\u001b[43m(\u001b[49m\u001b[43mfitnesses\u001b[49m\u001b[43m,\u001b[49m\u001b[43m \u001b[49m\u001b[43mpopulation\u001b[49m\u001b[43m)\u001b[49m\u001b[43m,\u001b[49m\u001b[43m \u001b[49m\u001b[43mreverse\u001b[49m\u001b[38;5;241;43m=\u001b[39;49m\u001b[38;5;28;43;01mTrue\u001b[39;49;00m\u001b[43m)\u001b[49m]\n\u001b[0;32m      3\u001b[0m     \u001b[38;5;28;01mreturn\u001b[39;00m sorted_population[:num_parents]\n",
      "\u001b[1;31mTypeError\u001b[0m: '<' not supported between instances of 'DoomAgent' and 'DoomAgent'"
     ]
    }
   ],
   "source": [
    "#Initialize Doom environment\n",
    "env = VizDoomGym_Simple(doomfinder('defend_the_center.cfg'), render=True)\n",
    "\n",
    "#Run Genetic Algorithm\n",
    "trained_agents = run_ga(env, generations=20, pop_size=10)\n"
   ]
  },
  {
   "cell_type": "code",
   "execution_count": null,
   "metadata": {},
   "outputs": [],
   "source": [
    "best_agent = trained_agents[0]  # Assuming it's the best one after GA\n",
    "observation, _ = env.reset()\n",
    "done = False\n",
    "while not done:\n",
    "    obs_tensor = torch.from_numpy(observation).float().unsqueeze(0)\n",
    "    action_probs = best_agent(obs_tensor)\n",
    "    action = torch.argmax(action_probs).item()\n",
    "    observation, reward, done, _, _ = env.step(action)\n",
    "    env.render()\n",
    "env.close()\n"
   ]
  }
 ],
 "metadata": {
  "kernelspec": {
   "display_name": "Python 3",
   "language": "python",
   "name": "python3"
  },
  "language_info": {
   "codemirror_mode": {
    "name": "ipython",
    "version": 3
   },
   "file_extension": ".py",
   "mimetype": "text/x-python",
   "name": "python",
   "nbconvert_exporter": "python",
   "pygments_lexer": "ipython3",
   "version": "3.11.4"
  }
 },
 "nbformat": 4,
 "nbformat_minor": 2
}
